{
 "cells": [
  {
   "cell_type": "code",
   "execution_count": 1,
   "metadata": {},
   "outputs": [],
   "source": [
    "#TO DO: Run this code by hitting the black button to the left or \n",
    "# hitting \"SHIFT-ENTER.\" You'll see the turtle screen pop up.\n",
    "\n",
    "import turtle\n",
    "t = turtle.Turtle()\n",
    "s = turtle.getscreen()\n",
    "t.shape(\"turtle\")\n",
    "t.pen(pencolor=\"purple\", fillcolor=\"blue\", speed=2)\n",
    "\n",
    "def refreshCanvas():\n",
    "    t.penup()\n",
    "    t.home()\n",
    "    t.clear()\n",
    "    t.pendown()"
   ]
  },
  {
   "cell_type": "code",
   "execution_count": 2,
   "metadata": {},
   "outputs": [],
   "source": [
    "refreshCanvas()\n",
    "\n",
    "# TO DO: Modify the code below to make the turtle walk in a square. \n",
    "# Feel free to copy and paste lines.\n",
    "\n",
    "t.forward(100)\n",
    "t.right(90)\n",
    "t.forward(50)"
   ]
  },
  {
   "cell_type": "code",
   "execution_count": 3,
   "metadata": {},
   "outputs": [],
   "source": [
    "refreshCanvas()\n",
    "\n",
    "# TO DO: Now see if you can use a for loop to give the turtle the same\n",
    "# instructions in fewer lines of code. Modify the code below to draw a square.\n",
    "\n",
    "for i in range(2): # Repeat the body of the loop 2 times\n",
    "    t.forward(100) # Body of loop"
   ]
  },
  {
   "cell_type": "code",
   "execution_count": 4,
   "metadata": {},
   "outputs": [],
   "source": [
    "refreshCanvas()\n",
    "t.pen(speed=9)\n",
    "\n",
    "# You can even put a loop inside a loop!\n",
    "\n",
    "angle = 0\n",
    "\n",
    "while (angle < 360):\n",
    "    # -------------\n",
    "    \n",
    "    # TO DO: copy and paste your code to draw a square here\n",
    "\n",
    "    # -------------\n",
    "    t.left(5)\n",
    "    angle+=5"
   ]
  },
  {
   "cell_type": "code",
   "execution_count": 5,
   "metadata": {},
   "outputs": [],
   "source": [
    "# When you're ready to close the turtle screen, run this code\n",
    "s.bye()"
   ]
  }
 ],
 "metadata": {
  "kernelspec": {
   "display_name": "Python 3",
   "language": "python",
   "name": "python3"
  },
  "language_info": {
   "codemirror_mode": {
    "name": "ipython",
    "version": 3
   },
   "file_extension": ".py",
   "mimetype": "text/x-python",
   "name": "python",
   "nbconvert_exporter": "python",
   "pygments_lexer": "ipython3",
   "version": "3.7.7"
  }
 },
 "nbformat": 4,
 "nbformat_minor": 4
}
